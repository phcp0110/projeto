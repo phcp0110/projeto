{
 "cells": [
  {
   "cell_type": "code",
   "execution_count": 6,
   "id": "63da49a0",
   "metadata": {},
   "outputs": [],
   "source": [
    "from deepmol.loaders import CSVLoader\n",
    "import pandas as pd\n",
    "import numpy as np\n",
    "\n",
    "# Load data from CSV file\n",
    "loader = CSVLoader(dataset_path='amostras_30000.csv',\n",
    "                   smiles_field='smiles',\n",
    "                   id_field='ids',\n",
    "                   mode='auto', shard_size=1000)\n",
    "# create the dataset\n",
    "csv_dataset = loader.create_dataset(sep=',', header=0)"
   ]
  },
  {
   "cell_type": "code",
   "execution_count": null,
   "id": "1260ad85",
   "metadata": {},
   "outputs": [],
   "source": [
    "\n",
    "df = pd.read_csv(\"integrated_dataset.csv\")\n",
    "amostras = df.sample(n=30000, random_state=42)\n"
   ]
  },
  {
   "cell_type": "code",
   "execution_count": 3,
   "id": "301b6a91",
   "metadata": {},
   "outputs": [],
   "source": [
    "amostras.to_csv(\"amostras_30000.csv\", index=False)\n"
   ]
  },
  {
   "cell_type": "markdown",
   "id": "d647c694",
   "metadata": {},
   "source": [
    "# NP Classifier\n"
   ]
  },
  {
   "cell_type": "code",
   "execution_count": 7,
   "id": "0d55300f",
   "metadata": {},
   "outputs": [
    {
     "name": "stderr",
     "output_type": "stream",
     "text": [
      "NPClassifierFP: 100%|██████████| 1000/1000 [00:02<00:00, 333.51it/s]\n"
     ]
    }
   ],
   "source": [
    "from deepmol.compound_featurization import NPClassifierFP\n",
    "\n",
    "NPClassifierFP(n_jobs=10).featurize(csv_dataset, inplace=True)"
   ]
  },
  {
   "cell_type": "code",
   "execution_count": 5,
   "id": "0c532ffa",
   "metadata": {},
   "outputs": [
    {
     "data": {
      "text/plain": [
       "(30000, 6144)"
      ]
     },
     "execution_count": 5,
     "metadata": {},
     "output_type": "execute_result"
    }
   ],
   "source": [
    "csv_dataset.X.shape"
   ]
  },
  {
   "cell_type": "code",
   "execution_count": 6,
   "id": "00dbc8f8",
   "metadata": {},
   "outputs": [
    {
     "data": {
      "text/plain": [
       "array([0., 0., 0., ..., 0., 0., 0.])"
      ]
     },
     "execution_count": 6,
     "metadata": {},
     "output_type": "execute_result"
    }
   ],
   "source": [
    "csv_dataset.X[0]"
   ]
  },
  {
   "cell_type": "code",
   "execution_count": 7,
   "id": "9bd36fc4",
   "metadata": {},
   "outputs": [
    {
     "data": {
      "text/plain": [
       "(array([ 0.,  1.,  2.,  3.,  4., 36., 42., 50.]),\n",
       " array([6111,   10,   11,    8,    1,    1,    1,    1]))"
      ]
     },
     "execution_count": 7,
     "metadata": {},
     "output_type": "execute_result"
    }
   ],
   "source": [
    "np.unique(csv_dataset.X[0], return_counts=True)"
   ]
  },
  {
   "cell_type": "markdown",
   "id": "597fe2d3",
   "metadata": {},
   "source": [
    "# Biosynfoni"
   ]
  },
  {
   "cell_type": "code",
   "execution_count": 8,
   "id": "265732e5",
   "metadata": {},
   "outputs": [
    {
     "name": "stderr",
     "output_type": "stream",
     "text": [
      "BiosynfoniKeys: 100%|██████████| 1000/1000 [00:02<00:00, 352.92it/s]\n"
     ]
    }
   ],
   "source": [
    "from deepmol.compound_featurization import BiosynfoniKeys\n",
    "\n",
    "BiosynfoniKeys(n_jobs=10).featurize(csv_dataset, inplace=True)"
   ]
  },
  {
   "cell_type": "code",
   "execution_count": 9,
   "id": "97661b07",
   "metadata": {},
   "outputs": [
    {
     "data": {
      "text/plain": [
       "(30000, 39)"
      ]
     },
     "execution_count": 9,
     "metadata": {},
     "output_type": "execute_result"
    }
   ],
   "source": [
    "csv_dataset.X.shape"
   ]
  },
  {
   "cell_type": "code",
   "execution_count": 10,
   "id": "f75934fe",
   "metadata": {},
   "outputs": [
    {
     "data": {
      "text/plain": [
       "array([ 0.,  0.,  0.,  0.,  0.,  0.,  0.,  0.,  0.,  0.,  0.,  0.,  0.,\n",
       "        0.,  0.,  0.,  1., 10.,  5., 55.,  4.,  0.,  0.,  0.,  0.,  0.,\n",
       "        0.,  0.,  0.,  0.,  0.,  0.,  0.,  0.,  0.,  0.,  0.,  0.,  0.])"
      ]
     },
     "execution_count": 10,
     "metadata": {},
     "output_type": "execute_result"
    }
   ],
   "source": [
    "csv_dataset.X[0]"
   ]
  },
  {
   "cell_type": "code",
   "execution_count": 11,
   "id": "8dc51718",
   "metadata": {},
   "outputs": [
    {
     "data": {
      "text/plain": [
       "(array([ 0.,  1.,  4.,  5., 10., 55.]), array([34,  1,  1,  1,  1,  1]))"
      ]
     },
     "execution_count": 11,
     "metadata": {},
     "output_type": "execute_result"
    }
   ],
   "source": [
    "np.unique(csv_dataset.X[0], return_counts=True)"
   ]
  },
  {
   "cell_type": "markdown",
   "id": "ac3f690e",
   "metadata": {},
   "source": [
    "# Neural NPFP"
   ]
  },
  {
   "cell_type": "code",
   "execution_count": 12,
   "id": "a3f2dafd",
   "metadata": {},
   "outputs": [
    {
     "name": "stderr",
     "output_type": "stream",
     "text": [
      "/home/ppereira/miniforge3/envs/Project/lib/python3.11/site-packages/deepmol/compound_featurization/neural_npfp_generator.py:45: FutureWarning: You are using `torch.load` with `weights_only=False` (the current default value), which uses the default pickle module implicitly. It is possible to construct malicious pickle data which will execute arbitrary code during unpickling (See https://github.com/pytorch/pytorch/blob/main/SECURITY.md#untrusted-models for more details). In a future release, the default value for `weights_only` will be flipped to `True`. This limits the functions that could be executed during unpickling. Arbitrary objects will no longer be allowed to be loaded via this mode unless they are explicitly allowlisted by the user via `torch.serialization.add_safe_globals`. We recommend you start setting `weights_only=True` for any use case where you don't have full control of the loaded file. Please open an issue on GitHub for any issues related to this experimental feature.\n",
      "  torch.load(os.path.join(FILE_PATH, \"neural_npfp\", \"aux_cv0.pt\"), map_location=torch.device(\"cpu\")))\n",
      "NeuralNPFP:   0%|          | 0/30000 [00:00<?, ?it/s]/home/ppereira/miniforge3/envs/Project/lib/python3.11/site-packages/deepmol/compound_featurization/neural_npfp_generator.py:82: UserWarning: Creating a tensor from a list of numpy.ndarrays is extremely slow. Please consider converting the list to a single numpy.ndarray with numpy.array() before converting to a tensor. (Triggered internally at ../torch/csrc/utils/tensor_new.cpp:278.)\n",
      "  fp = torch.tensor([fp], dtype=torch.float)\n",
      "NeuralNPFP: 100%|██████████| 30000/30000 [01:35<00:00, 313.29it/s]\n"
     ]
    }
   ],
   "source": [
    "from deepmol.compound_featurization import NeuralNPFP\n",
    "\n",
    "NeuralNPFP(n_jobs=10).featurize(csv_dataset, inplace=True)"
   ]
  },
  {
   "cell_type": "code",
   "execution_count": 13,
   "id": "dac25c94",
   "metadata": {},
   "outputs": [
    {
     "data": {
      "text/plain": [
       "(30000, 64)"
      ]
     },
     "execution_count": 13,
     "metadata": {},
     "output_type": "execute_result"
    }
   ],
   "source": [
    "csv_dataset.X.shape"
   ]
  },
  {
   "cell_type": "code",
   "execution_count": 14,
   "id": "391b200a",
   "metadata": {},
   "outputs": [
    {
     "data": {
      "text/plain": [
       "array([ 1.82657611, -0.14013769, -1.78766513,  1.81063437, -2.32493448,\n",
       "       -2.39600992,  1.84732926,  2.36158395, -1.78433383, -0.46329024,\n",
       "        2.15387702, -0.40001643, -1.59564078, -2.06041574,  1.44741619,\n",
       "       -2.21173239, -0.61478484,  1.85280526,  0.45151985, -1.71923113,\n",
       "       -2.32591343, -2.22309494, -2.22470307,  1.64728463, -1.65957129,\n",
       "       -1.75095212, -2.07849526,  1.21179235,  2.7078526 , -1.06124187,\n",
       "        2.59967804, -1.30787718,  1.64624715, -2.55019975,  2.57820582,\n",
       "       -2.15027928, -1.2620945 , -0.98375863,  0.73135829,  1.08484197,\n",
       "        2.8657856 , -2.6965363 ,  1.04068708,  1.42691851,  1.0653019 ,\n",
       "        1.80034328, -0.1244522 , -1.30602562,  1.14200723,  1.62013364,\n",
       "       -1.81430066,  1.48497033, -1.31255066,  1.84707391,  2.05637836,\n",
       "        0.90538549,  0.05679986, -2.15124702, -1.85069108, -1.70023704,\n",
       "       -2.08359456,  1.49881494, -2.43924689,  1.41526985])"
      ]
     },
     "execution_count": 14,
     "metadata": {},
     "output_type": "execute_result"
    }
   ],
   "source": [
    "csv_dataset.X[0]"
   ]
  },
  {
   "cell_type": "code",
   "execution_count": 15,
   "id": "6024589a",
   "metadata": {},
   "outputs": [
    {
     "data": {
      "text/plain": [
       "(array([-2.6965363 , -2.55019975, -2.43924689, -2.39600992, -2.32591343,\n",
       "        -2.32493448, -2.22470307, -2.22309494, -2.21173239, -2.15124702,\n",
       "        -2.15027928, -2.08359456, -2.07849526, -2.06041574, -1.85069108,\n",
       "        -1.81430066, -1.78766513, -1.78433383, -1.75095212, -1.71923113,\n",
       "        -1.70023704, -1.65957129, -1.59564078, -1.31255066, -1.30787718,\n",
       "        -1.30602562, -1.2620945 , -1.06124187, -0.98375863, -0.61478484,\n",
       "        -0.46329024, -0.40001643, -0.14013769, -0.1244522 ,  0.05679986,\n",
       "         0.45151985,  0.73135829,  0.90538549,  1.04068708,  1.0653019 ,\n",
       "         1.08484197,  1.14200723,  1.21179235,  1.41526985,  1.42691851,\n",
       "         1.44741619,  1.48497033,  1.49881494,  1.62013364,  1.64624715,\n",
       "         1.64728463,  1.80034328,  1.81063437,  1.82657611,  1.84707391,\n",
       "         1.84732926,  1.85280526,  2.05637836,  2.15387702,  2.36158395,\n",
       "         2.57820582,  2.59967804,  2.7078526 ,  2.8657856 ]),\n",
       " array([1, 1, 1, 1, 1, 1, 1, 1, 1, 1, 1, 1, 1, 1, 1, 1, 1, 1, 1, 1, 1, 1,\n",
       "        1, 1, 1, 1, 1, 1, 1, 1, 1, 1, 1, 1, 1, 1, 1, 1, 1, 1, 1, 1, 1, 1,\n",
       "        1, 1, 1, 1, 1, 1, 1, 1, 1, 1, 1, 1, 1, 1, 1, 1, 1, 1, 1, 1]))"
      ]
     },
     "execution_count": 15,
     "metadata": {},
     "output_type": "execute_result"
    }
   ],
   "source": [
    "np.unique(csv_dataset.X[0], return_counts=True)"
   ]
  },
  {
   "cell_type": "markdown",
   "id": "995c01ad",
   "metadata": {},
   "source": [
    "# MHFP"
   ]
  },
  {
   "cell_type": "code",
   "execution_count": 16,
   "id": "6c160af1",
   "metadata": {},
   "outputs": [],
   "source": [
    "from deepmol.compound_featurization import MHFP"
   ]
  },
  {
   "cell_type": "code",
   "execution_count": 17,
   "id": "61bfefd2",
   "metadata": {},
   "outputs": [
    {
     "data": {
      "text/plain": [
       "(30000, 64)"
      ]
     },
     "execution_count": 17,
     "metadata": {},
     "output_type": "execute_result"
    }
   ],
   "source": [
    "csv_dataset.X.shape"
   ]
  },
  {
   "cell_type": "code",
   "execution_count": 18,
   "id": "96c7da4e",
   "metadata": {},
   "outputs": [
    {
     "data": {
      "text/plain": [
       "array([ 1.82657611, -0.14013769, -1.78766513,  1.81063437, -2.32493448,\n",
       "       -2.39600992,  1.84732926,  2.36158395, -1.78433383, -0.46329024,\n",
       "        2.15387702, -0.40001643, -1.59564078, -2.06041574,  1.44741619,\n",
       "       -2.21173239, -0.61478484,  1.85280526,  0.45151985, -1.71923113,\n",
       "       -2.32591343, -2.22309494, -2.22470307,  1.64728463, -1.65957129,\n",
       "       -1.75095212, -2.07849526,  1.21179235,  2.7078526 , -1.06124187,\n",
       "        2.59967804, -1.30787718,  1.64624715, -2.55019975,  2.57820582,\n",
       "       -2.15027928, -1.2620945 , -0.98375863,  0.73135829,  1.08484197,\n",
       "        2.8657856 , -2.6965363 ,  1.04068708,  1.42691851,  1.0653019 ,\n",
       "        1.80034328, -0.1244522 , -1.30602562,  1.14200723,  1.62013364,\n",
       "       -1.81430066,  1.48497033, -1.31255066,  1.84707391,  2.05637836,\n",
       "        0.90538549,  0.05679986, -2.15124702, -1.85069108, -1.70023704,\n",
       "       -2.08359456,  1.49881494, -2.43924689,  1.41526985])"
      ]
     },
     "execution_count": 18,
     "metadata": {},
     "output_type": "execute_result"
    }
   ],
   "source": [
    "csv_dataset.X[0]"
   ]
  },
  {
   "cell_type": "code",
   "execution_count": 20,
   "id": "73dd51dc",
   "metadata": {},
   "outputs": [
    {
     "ename": "TypeError",
     "evalue": "'SmilesDataset' object is not subscriptable",
     "output_type": "error",
     "traceback": [
      "\u001b[31m---------------------------------------------------------------------------\u001b[39m",
      "\u001b[31mTypeError\u001b[39m                                 Traceback (most recent call last)",
      "\u001b[36mCell\u001b[39m\u001b[36m \u001b[39m\u001b[32mIn[20]\u001b[39m\u001b[32m, line 1\u001b[39m\n\u001b[32m----> \u001b[39m\u001b[32m1\u001b[39m np.unique(\u001b[43mcsv_dataset\u001b[49m\u001b[43m[\u001b[49m\u001b[32;43m0\u001b[39;49m\u001b[43m]\u001b[49m, return_counts=\u001b[38;5;28;01mTrue\u001b[39;00m)\n",
      "\u001b[31mTypeError\u001b[39m: 'SmilesDataset' object is not subscriptable"
     ]
    }
   ],
   "source": [
    "np.unique(csv_dataset[0], return_counts=True)"
   ]
  },
  {
   "cell_type": "markdown",
   "id": "b0a6aa28",
   "metadata": {},
   "source": [
    "# Morgan Fingerprint"
   ]
  },
  {
   "cell_type": "code",
   "execution_count": 9,
   "id": "ba9a0e1e",
   "metadata": {},
   "outputs": [
    {
     "name": "stderr",
     "output_type": "stream",
     "text": [
      "MorganFingerprint: 100%|██████████| 1000/1000 [00:03<00:00, 288.85it/s]\n"
     ]
    }
   ],
   "source": [
    "from deepmol.compound_featurization import  MorganFingerprint\n",
    "\n",
    "MorganFingerprint(n_jobs=10).featurize(csv_dataset, inplace=True)\n"
   ]
  },
  {
   "cell_type": "code",
   "execution_count": 10,
   "id": "233faf57",
   "metadata": {},
   "outputs": [
    {
     "data": {
      "text/plain": [
       "(1000, 2048)"
      ]
     },
     "execution_count": 10,
     "metadata": {},
     "output_type": "execute_result"
    }
   ],
   "source": [
    "csv_dataset.X.shape\n"
   ]
  },
  {
   "cell_type": "code",
   "execution_count": 11,
   "id": "3d9e751a",
   "metadata": {},
   "outputs": [
    {
     "data": {
      "text/plain": [
       "array([0., 0., 0., ..., 0., 0., 0.])"
      ]
     },
     "execution_count": 11,
     "metadata": {},
     "output_type": "execute_result"
    }
   ],
   "source": [
    "csv_dataset.X[0]\n"
   ]
  },
  {
   "cell_type": "code",
   "execution_count": 12,
   "id": "687af43c",
   "metadata": {},
   "outputs": [
    {
     "data": {
      "text/plain": [
       "(array([0., 1.]), array([2011,   37]))"
      ]
     },
     "execution_count": 12,
     "metadata": {},
     "output_type": "execute_result"
    }
   ],
   "source": [
    "np.unique(csv_dataset.X[0], return_counts=True)"
   ]
  },
  {
   "cell_type": "markdown",
   "id": "c30e8ebc",
   "metadata": {},
   "source": [
    "# Compute similarities for 1000 samples (just for testing the workflow)"
   ]
  },
  {
   "cell_type": "code",
   "execution_count": 60,
   "id": "129ab6f6",
   "metadata": {},
   "outputs": [],
   "source": [
    " \n",
    "from tqdm import tqdm\n",
    "\n",
    "\n",
    "def manhattan_similarity(x, y):\n",
    "    \"\"\"\n",
    "    Compute Manhattan similarity between two vectors.\n",
    "    Parameters:\n",
    "        x, y : array-like\n",
    "            Input vectors (must be the same length).\n",
    "    Returns:\n",
    "        float : Similarity score.\n",
    "    \"\"\"\n",
    "    x = np.array(x)\n",
    "    y = np.array(y)\n",
    " \n",
    "    distance = np.sum(np.abs(x - y))\n",
    " \n",
    "    return distance\n",
    "\n",
    "def compute_all_similarities(dataset):\n",
    "    \"\"\"\n",
    "    Compute all pairwise similarities in the dataset.\n",
    "    Parameters:\n",
    "        dataset : list of lists\n",
    "            Each inner list represents a sample.\n",
    "    Returns:\n",
    "        list of tuples : Each tuple contains two indices and their similarity score.\n",
    "    \"\"\"\n",
    "    fp = dataset.X.copy()\n",
    "\n",
    "    # Preallocate vector of correct size\n",
    "    n_samples = fp.shape[0]\n",
    "    n_comps = int((n_samples ** 2 - n_samples) / 2)\n",
    "    similarity = np.zeros((1, n_comps,), dtype=np.float32)\n",
    "\n",
    "    # Start pairwise similarity counter\n",
    "    count = 0\n",
    "\n",
    "    # Loop over all unique pairs (skip redundant comparisons)\n",
    "    for i in tqdm(range(n_samples - 1), desc=\"Computing similarities\"):\n",
    "        for j in range(i + 1, n_samples):\n",
    "            # Calculate similarity as 1 - Jaccard distance\n",
    "            similarity[0, count] = manhattan_similarity(fp[i, :], fp[j, :])\n",
    "            count += 1\n",
    "\n",
    "    return similarity\n",
    "\n",
    "def normalize_similarity_matrix(similarity_matrix):\n",
    "    \"\"\"\n",
    "    Normalize the similarity matrix to a range of [0, 1].\n",
    "    Parameters:\n",
    "        similarity_matrix : numpy array\n",
    "            The similarity matrix to normalize.\n",
    "    Returns:\n",
    "        numpy array : Normalized similarity matrix.\n",
    "    \"\"\"\n",
    "    max_val = np.max(similarity_matrix)\n",
    " \n",
    "    normalized_matrix = 1 - (similarity_matrix / max_val)\n",
    " \n",
    "    return normalized_matrix"
   ]
  },
  {
   "cell_type": "code",
   "execution_count": 61,
   "id": "b734e545",
   "metadata": {},
   "outputs": [
    {
     "name": "stderr",
     "output_type": "stream",
     "text": [
      "BiosynfoniKeys: 100%|██████████| 1000/1000 [00:07<00:00, 136.25it/s]\n",
      "Computing similarities: 100%|██████████| 999/999 [00:05<00:00, 182.67it/s]\n"
     ]
    },
    {
     "data": {
      "text/plain": [
       "array([[0.87286067, 0.65281177, 0.89242053, ..., 0.89242053, 0.8410758 ,\n",
       "        0.83129585]], dtype=float32)"
      ]
     },
     "execution_count": 61,
     "metadata": {},
     "output_type": "execute_result"
    }
   ],
   "source": [
    "# EXEMPLO com biosynfoni\n",
    "from deepmol.compound_featurization import BiosynfoniKeys\n",
    "\n",
    "BiosynfoniKeys(n_jobs=10).featurize(csv_dataset, inplace=True)\n",
    "\n",
    "similarities_biosynfoni = compute_all_similarities(csv_dataset)\n",
    "similarities_biosynfoni = normalize_similarity_matrix(similarities_biosynfoni)\n",
    "similarities_biosynfoni"
   ]
  },
  {
   "cell_type": "code",
   "execution_count": 62,
   "id": "491b48e3",
   "metadata": {},
   "outputs": [
    {
     "name": "stderr",
     "output_type": "stream",
     "text": [
      "MorganFingerprint: 100%|██████████| 1000/1000 [00:03<00:00, 298.33it/s]\n",
      "Computing similarities: 100%|██████████| 999/999 [00:09<00:00, 106.14it/s]\n"
     ]
    },
    {
     "data": {
      "text/plain": [
       "array([[0.7644628 , 0.6487603 , 0.7644628 , ..., 0.4876033 , 0.5578512 ,\n",
       "        0.42561984]], dtype=float32)"
      ]
     },
     "execution_count": 62,
     "metadata": {},
     "output_type": "execute_result"
    }
   ],
   "source": [
    "# EXEMPLO com biosynfoni\n",
    "from deepmol.compound_featurization import BiosynfoniKeys, MorganFingerprint\n",
    "\n",
    "MorganFingerprint(n_jobs=10).featurize(csv_dataset, inplace=True)\n",
    "\n",
    "similarities_morgan = compute_all_similarities(csv_dataset)\n",
    "similarities_morgan = normalize_similarity_matrix(similarities_morgan)\n",
    "similarities_morgan"
   ]
  },
  {
   "cell_type": "code",
   "execution_count": 66,
   "id": "1bd17897",
   "metadata": {},
   "outputs": [
    {
     "name": "stderr",
     "output_type": "stream",
     "text": [
      "NeuralNPFP:   0%|          | 0/1000 [00:00<?, ?it/s]/home/jcapela/fingerprints_benchmark/DeepMol/src/deepmol/compound_featurization/neural_npfp_generator.py:82: UserWarning: Creating a tensor from a list of numpy.ndarrays is extremely slow. Please consider converting the list to a single numpy.ndarray with numpy.array() before converting to a tensor. (Triggered internally at /pytorch/torch/csrc/utils/tensor_new.cpp:254.)\n",
      "  fp = torch.tensor([fp], dtype=torch.float)\n",
      "NeuralNPFP: 100%|██████████| 1000/1000 [00:10<00:00, 93.56it/s]\n",
      "Computing similarities: 100%|██████████| 999/999 [00:06<00:00, 157.73it/s]\n"
     ]
    },
    {
     "data": {
      "text/plain": [
       "array([[0.8113003 , 0.8350232 , 0.8757656 , ..., 0.81942815, 0.7601334 ,\n",
       "        0.79340017]], dtype=float32)"
      ]
     },
     "execution_count": 66,
     "metadata": {},
     "output_type": "execute_result"
    }
   ],
   "source": [
    "# EXEMPLO com biosynfoni\n",
    "from deepmol.compound_featurization import BiosynfoniKeys, MorganFingerprint, NeuralNPFP\n",
    "\n",
    "NeuralNPFP(n_jobs=10).featurize(csv_dataset, inplace=True)\n",
    "\n",
    "similarities_neural_npfp = compute_all_similarities(csv_dataset)\n",
    "similarities_neural_npfp = normalize_similarity_matrix(similarities_neural_npfp)\n",
    "similarities_neural_npfp"
   ]
  },
  {
   "cell_type": "code",
   "execution_count": 89,
   "id": "31b6af1f",
   "metadata": {},
   "outputs": [],
   "source": [
    "similarities = np.concatenate((similarities_biosynfoni, similarities_morgan, similarities_neural_npfp), axis=0)\n",
    "correlation_matrix = np.corrcoef(similarities)"
   ]
  },
  {
   "cell_type": "code",
   "execution_count": 90,
   "id": "6eb2bf84",
   "metadata": {},
   "outputs": [
    {
     "data": {
      "text/plain": [
       "array([[1.        , 0.50183579, 0.47521117],\n",
       "       [0.50183579, 1.        , 0.47078816],\n",
       "       [0.47521117, 0.47078816, 1.        ]])"
      ]
     },
     "execution_count": 90,
     "metadata": {},
     "output_type": "execute_result"
    }
   ],
   "source": [
    "correlation_matrix"
   ]
  },
  {
   "cell_type": "code",
   "execution_count": 91,
   "id": "14645e68",
   "metadata": {},
   "outputs": [
    {
     "data": {
      "image/png": "[encoded data removed]",
      "text/plain": [
       "<Figure size 1000x800 with 2 Axes>"
      ]
     },
     "metadata": {},
     "output_type": "display_data"
    }
   ],
   "source": [
    "# correlation matrix\n",
    "import seaborn as sns\n",
    "import matplotlib.pyplot as plt\n",
    "\n",
    "plt.figure(figsize=(10, 8))\n",
    "sns.heatmap(correlation_matrix, annot=True, fmt=\".2f\", cmap='coolwarm', cbar=True)\n",
    "plt.title('Correlation Matrix of Similarity Measures')\n",
    "plt.xlabel('Similarity Measures')\n",
    "plt.ylabel('Similarity Measures')\n",
    "plt.xticks(ticks=np.arange(3) + 0.5, labels=['Biosynfoni', 'Morgan', 'NeuralNPFP'], rotation=45)\n",
    "plt.yticks(ticks=np.arange(3) + 0.5, labels=['Biosynfoni', 'Morgan', 'NeuralNPFP'], rotation=45)\n",
    "plt.tight_layout()\n",
    "plt.show()"
   ]
  },
  {
   "cell_type": "code",
   "execution_count": 94,
   "id": "2a6a5b09",
   "metadata": {},
   "outputs": [
    {
     "data": {
      "image/png": "[encoded data removed]",
      "text/plain": [
       "<Figure size 1200x600 with 1 Axes>"
      ]
     },
     "metadata": {},
     "output_type": "display_data"
    }
   ],
   "source": [
    "import numpy as np\n",
    "import networkx as nx\n",
    "import matplotlib.pyplot as plt\n",
    "\n",
    "\n",
    "# Step 2: Convert the Correlation Matrix to a Distance Matrix\n",
    "distance_matrix = 1 - correlation_matrix\n",
    "\n",
    "# Create a graph from the distance matrix\n",
    "G = nx.Graph()\n",
    "num_nodes = distance_matrix.shape[0]\n",
    "for i in range(num_nodes):\n",
    "    for j in range(i + 1, num_nodes):\n",
    "        G.add_edge(i, j, weight=distance_matrix[i, j])\n",
    "\n",
    "# Compute the minimum spanning tree without inversion\n",
    "mst_without_inversion = nx.minimum_spanning_tree(G)\n",
    "\n",
    "# Invert the distance matrix to get a maximum spanning tree\n",
    "max_distance = np.max(distance_matrix)\n",
    "inverted_distance_matrix = max_distance - distance_matrix\n",
    "\n",
    "# Create a graph from the inverted distance matrix\n",
    "G_inverted = nx.Graph()\n",
    "for i in range(num_nodes):\n",
    "    for j in range(i + 1, num_nodes):\n",
    "        G_inverted.add_edge(i, j, weight=inverted_distance_matrix[i, j])\n",
    "\n",
    "# Compute the minimum spanning tree with inversion\n",
    "mst_with_inversion = nx.minimum_spanning_tree(G_inverted)\n",
    "\n",
    "# Add labels to the nodes\n",
    "labels = {0: 'Biosynfoni', 1: 'Morgan', 2: 'NeuralNPFP'}\n",
    "\n",
    "# Set the labels for the nodes in the graph\n",
    "for node in mst_without_inversion.nodes():\n",
    "    if node in labels:\n",
    "        mst_without_inversion.nodes[node]['label'] = labels[node]\n",
    "    else:\n",
    "        mst_without_inversion.nodes[node]['label'] = str(node)\n",
    "\n",
    "for node in mst_with_inversion.nodes():\n",
    "    if node in labels:\n",
    "        mst_with_inversion.nodes[node]['label'] = labels[node]\n",
    "    else:\n",
    "        mst_with_inversion.nodes[node]['label'] = str(node)\n",
    "\n",
    "# Draw the graphs\n",
    "pos_without = nx.spring_layout(mst_without_inversion)\n",
    "pos_with = nx.spring_layout(mst_with_inversion)\n",
    "\n",
    "# Extract node labels\n",
    "node_labels_without = nx.get_node_attributes(mst_without_inversion, 'label')\n",
    "node_labels_with = nx.get_node_attributes(mst_with_inversion, 'label')\n",
    "\n",
    "# Draw the graph without inversion\n",
    "plt.figure(figsize=(12, 6))\n",
    "plt.subplot(1, 2, 1)\n",
    "nx.draw(mst_without_inversion, pos_without, with_labels=True, labels=node_labels_without, node_color='lightblue', edge_color='gray')\n",
    "edge_labels_without = nx.get_edge_attributes(mst_without_inversion, 'weight')\n",
    "nx.draw_networkx_edge_labels(mst_without_inversion, pos_without, edge_labels=edge_labels_without)\n",
    "plt.title(\"Minimum Spanning Tree\")\n",
    "\n",
    "# Draw the graph with inversion\n",
    "\n",
    "plt.show()\n"
   ]
  },
  {
   "cell_type": "code",
   "execution_count": null,
   "id": "3d6e15d1",
   "metadata": {},
   "outputs": [],
   "source": [
    "#import seaborn as sns\n",
    "#import matplotlib.pyplot as plt\n",
    "\n",
    "#plt.figure(figsize=(10,8))\n",
    "#sns.heatmap(similarity, cmap='viridis')\n",
    "#plt.title(\"Matriz de Similaridade Tanimoto\")\n",
    "#plt.show()\n",
    "\n",
    "# A matriz é gigante isto não vai sair daqui, vale a pena fazer o heatmap de 300 moleculas ?\n"
   ]
  },
  {
   "cell_type": "code",
   "execution_count": null,
   "id": "ed54aa1b",
   "metadata": {},
   "outputs": [
    {
     "ename": "NetworkXError",
     "evalue": "Adjacency matrix not square: nx,ny=(3, 499500)",
     "output_type": "error",
     "traceback": [
      "\u001b[31m---------------------------------------------------------------------------\u001b[39m",
      "\u001b[31mNetworkXError\u001b[39m                             Traceback (most recent call last)",
      "\u001b[36mCell\u001b[39m\u001b[36m \u001b[39m\u001b[32mIn[86]\u001b[39m\u001b[32m, line 9\u001b[39m\n\u001b[32m      6\u001b[39m distance_matrix = similarities\n\u001b[32m      8\u001b[39m \u001b[38;5;66;03m# Criar grafo com as distâncias\u001b[39;00m\n\u001b[32m----> \u001b[39m\u001b[32m9\u001b[39m G = \u001b[43mnx\u001b[49m\u001b[43m.\u001b[49m\u001b[43mfrom_numpy_array\u001b[49m\u001b[43m(\u001b[49m\u001b[43mdistance_matrix\u001b[49m\u001b[43m)\u001b[49m\n\u001b[32m     11\u001b[39m \u001b[38;5;66;03m# Calcular a Minimum Spanning Tree (MST)\u001b[39;00m\n\u001b[32m     12\u001b[39m mst = nx.minimum_spanning_tree(G)\n",
      "\u001b[36mFile \u001b[39m\u001b[32m<class 'networkx.utils.decorators.argmap'> compilation 4:3\u001b[39m, in \u001b[36margmap_from_numpy_array_1\u001b[39m\u001b[34m(A, parallel_edges, create_using, edge_attr, nodelist, backend, **backend_kwargs)\u001b[39m\n\u001b[32m      1\u001b[39m \u001b[38;5;28;01mimport\u001b[39;00m\u001b[38;5;250m \u001b[39m\u001b[34;01mbz2\u001b[39;00m\n\u001b[32m      2\u001b[39m \u001b[38;5;28;01mimport\u001b[39;00m\u001b[38;5;250m \u001b[39m\u001b[34;01mcollections\u001b[39;00m\n\u001b[32m----> \u001b[39m\u001b[32m3\u001b[39m \u001b[38;5;28;01mimport\u001b[39;00m\u001b[38;5;250m \u001b[39m\u001b[34;01mgzip\u001b[39;00m\n\u001b[32m      4\u001b[39m \u001b[38;5;28;01mimport\u001b[39;00m\u001b[38;5;250m \u001b[39m\u001b[34;01minspect\u001b[39;00m\n\u001b[32m      5\u001b[39m \u001b[38;5;28;01mimport\u001b[39;00m\u001b[38;5;250m \u001b[39m\u001b[34;01mitertools\u001b[39;00m\n",
      "\u001b[36mFile \u001b[39m\u001b[32m~/miniconda3/envs/deepmol/lib/python3.11/site-packages/networkx/utils/backends.py:967\u001b[39m, in \u001b[36m_dispatchable.__call__\u001b[39m\u001b[34m(self, backend, *args, **kwargs)\u001b[39m\n\u001b[32m    965\u001b[39m     \u001b[38;5;28;01mif\u001b[39;00m backend \u001b[38;5;129;01mis\u001b[39;00m \u001b[38;5;129;01mnot\u001b[39;00m \u001b[38;5;28;01mNone\u001b[39;00m \u001b[38;5;129;01mand\u001b[39;00m backend != \u001b[33m\"\u001b[39m\u001b[33mnetworkx\u001b[39m\u001b[33m\"\u001b[39m:\n\u001b[32m    966\u001b[39m         \u001b[38;5;28;01mraise\u001b[39;00m \u001b[38;5;167;01mImportError\u001b[39;00m(\u001b[33mf\u001b[39m\u001b[33m\"\u001b[39m\u001b[33m'\u001b[39m\u001b[38;5;132;01m{\u001b[39;00mbackend\u001b[38;5;132;01m}\u001b[39;00m\u001b[33m'\u001b[39m\u001b[33m backend is not installed\u001b[39m\u001b[33m\"\u001b[39m)\n\u001b[32m--> \u001b[39m\u001b[32m967\u001b[39m     \u001b[38;5;28;01mreturn\u001b[39;00m \u001b[38;5;28;43mself\u001b[39;49m\u001b[43m.\u001b[49m\u001b[43morig_func\u001b[49m\u001b[43m(\u001b[49m\u001b[43m*\u001b[49m\u001b[43margs\u001b[49m\u001b[43m,\u001b[49m\u001b[43m \u001b[49m\u001b[43m*\u001b[49m\u001b[43m*\u001b[49m\u001b[43mkwargs\u001b[49m\u001b[43m)\u001b[49m\n\u001b[32m    969\u001b[39m \u001b[38;5;66;03m# Use `backend_name` in this function instead of `backend`.\u001b[39;00m\n\u001b[32m    970\u001b[39m \u001b[38;5;66;03m# This is purely for aesthetics and to make it easier to search for this\u001b[39;00m\n\u001b[32m    971\u001b[39m \u001b[38;5;66;03m# variable since \"backend\" is used in many comments and log/error messages.\u001b[39;00m\n\u001b[32m    972\u001b[39m backend_name = backend\n",
      "\u001b[36mFile \u001b[39m\u001b[32m~/miniconda3/envs/deepmol/lib/python3.11/site-packages/networkx/convert_matrix.py:1242\u001b[39m, in \u001b[36mfrom_numpy_array\u001b[39m\u001b[34m(A, parallel_edges, create_using, edge_attr, nodelist)\u001b[39m\n\u001b[32m   1240\u001b[39m n, m = A.shape\n\u001b[32m   1241\u001b[39m \u001b[38;5;28;01mif\u001b[39;00m n != m:\n\u001b[32m-> \u001b[39m\u001b[32m1242\u001b[39m     \u001b[38;5;28;01mraise\u001b[39;00m nx.NetworkXError(\u001b[33mf\u001b[39m\u001b[33m\"\u001b[39m\u001b[33mAdjacency matrix not square: nx,ny=\u001b[39m\u001b[38;5;132;01m{\u001b[39;00mA.shape\u001b[38;5;132;01m}\u001b[39;00m\u001b[33m\"\u001b[39m)\n\u001b[32m   1243\u001b[39m dt = A.dtype\n\u001b[32m   1244\u001b[39m \u001b[38;5;28;01mtry\u001b[39;00m:\n",
      "\u001b[31mNetworkXError\u001b[39m: Adjacency matrix not square: nx,ny=(3, 499500)"
     ]
    }
   ],
   "source": [
    "\n",
    "import numpy as np\n",
    "import networkx as nx\n",
    "import matplotlib.pyplot as plt\n",
    "\n",
    "# Converter a matriz de similaridade em distância (assumindo que 'similarity' já está definido)\n",
    "distance_matrix = 1 - similarities\n",
    "\n",
    "# Criar grafo com as distâncias\n",
    "G = nx.from_numpy_array(distance_matrix)\n",
    "\n",
    "# Calcular a Minimum Spanning Tree (MST)\n",
    "mst = nx.minimum_spanning_tree(G)\n",
    "\n",
    "# Verificar número de nós para decidir como desenhar\n",
    "num_nodes = len(mst.nodes)\n",
    "\n",
    "print(f\"MST tem {num_nodes} nós.\")\n",
    "\n",
    "# Visualizar a MST apenas se o grafo for pequeno o suficiente\n",
    "if num_nodes <= 300:\n",
    "    plt.figure(figsize=(15, 12))\n",
    "\n",
    "    # Usar layout mais rápido (kamada_kawai) ou spring com menos iterações\n",
    "    try:\n",
    "        pos = nx.kamada_kawai_layout(mst)\n",
    "    except:\n",
    "        pos = nx.spring_layout(mst, seed=42, iterations=50)\n",
    "\n",
    "    nx.draw(mst, pos,\n",
    "            with_labels=True,\n",
    "            node_size=50,\n",
    "            font_size=8,\n",
    "            edge_color='gray')\n",
    "\n",
    "    plt.title('Minimum Spanning Tree (MST) - Similaridade Tanimoto')\n",
    "    plt.show()\n",
    "else:\n",
    "    print(\"A visualização foi omitida porque o grafo tem muitos nós.\")\n",
    "\n"
   ]
  }
 ],
 "metadata": {
  "kernelspec": {
   "display_name": "deepmol",
   "language": "python",
   "name": "python3"
  },
  "language_info": {
   "codemirror_mode": {
    "name": "ipython",
    "version": 3
   },
   "file_extension": ".py",
   "mimetype": "text/x-python",
   "name": "python",
   "nbconvert_exporter": "python",
   "pygments_lexer": "ipython3",
   "version": "3.11.11"
  }
 },
 "nbformat": 4,
 "nbformat_minor": 5
}
